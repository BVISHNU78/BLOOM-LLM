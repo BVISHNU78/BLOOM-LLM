{
  "nbformat": 4,
  "nbformat_minor": 0,
  "metadata": {
    "colab": {
      "provenance": [],
      "gpuType": "T4"
    },
    "kernelspec": {
      "name": "python3",
      "display_name": "Python 3"
    },
    "language_info": {
      "name": "python"
    },
    "accelerator": "GPU"
  },
  "cells": [
    {
      "cell_type": "code",
      "source": [
        "from transformers import AutoTokenizer,set_seed,BloomForCausalLM, BloomTokenizerFast\n",
        "tokenizer=AutoTokenizer.from_pretrained('bigscience/bloom-3b')"
      ],
      "metadata": {
        "id": "FNK-bskXYv7a"
      },
      "execution_count": 23,
      "outputs": []
    },
    {
      "cell_type": "code",
      "source": [
        "import torch\n",
        "torch.cuda.empty_cache()"
      ],
      "metadata": {
        "id": "PWlGBSJjd0Tn"
      },
      "execution_count": 24,
      "outputs": []
    },
    {
      "cell_type": "code",
      "source": [
        "model=BloomForCausalLM.from_pretrained('bigscience/bloom-560m')"
      ],
      "metadata": {
        "id": "K70BdklAZU5o"
      },
      "execution_count": 27,
      "outputs": []
    },
    {
      "cell_type": "code",
      "source": [
        "set_seed(1111)"
      ],
      "metadata": {
        "id": "3TXD7dHUZ38e"
      },
      "execution_count": 28,
      "outputs": []
    },
    {
      "cell_type": "code",
      "source": [
        "import torch\n",
        "torch.set_default_tensor_type(torch.cuda.FloatTensor)"
      ],
      "metadata": {
        "id": "RoAYEFzvaC0l"
      },
      "execution_count": 29,
      "outputs": []
    },
    {
      "cell_type": "code",
      "source": [
        "text=\"what is AI\""
      ],
      "metadata": {
        "id": "7-2e7R_5aeBb"
      },
      "execution_count": 42,
      "outputs": []
    },
    {
      "cell_type": "code",
      "source": [
        "input_tokens=tokenizer(text,return_tensors=\"pt\").to(0)"
      ],
      "metadata": {
        "id": "4T3Abc__aitJ"
      },
      "execution_count": 43,
      "outputs": []
    },
    {
      "cell_type": "code",
      "source": [
        "input_tokens"
      ],
      "metadata": {
        "colab": {
          "base_uri": "https://localhost:8080/"
        },
        "id": "D2LMM6VtbKTQ",
        "outputId": "48829103-3bb5-42a9-d80c-0b77498a103c"
      },
      "execution_count": 44,
      "outputs": [
        {
          "output_type": "execute_result",
          "data": {
            "text/plain": [
              "{'input_ids': tensor([[25915,   632, 75299]]), 'attention_mask': tensor([[1, 1, 1]])}"
            ]
          },
          "metadata": {},
          "execution_count": 44
        }
      ]
    },
    {
      "cell_type": "code",
      "source": [
        "result_sample=model.generate(**input_tokens,max_length=200,top_k=0)"
      ],
      "metadata": {
        "id": "tphal0fXbRPt"
      },
      "execution_count": 45,
      "outputs": []
    },
    {
      "cell_type": "code",
      "source": [
        "result_sample"
      ],
      "metadata": {
        "colab": {
          "base_uri": "https://localhost:8080/"
        },
        "id": "cs3yHHI-Tnv5",
        "outputId": "ea076eed-a3a7-4c74-a80a-cb15df8d39df"
      },
      "execution_count": 46,
      "outputs": [
        {
          "output_type": "execute_result",
          "data": {
            "text/plain": [
              "tensor([[25915,   632, 75299,    34,   982,   189,  2175,  5893,   632,  1130,\n",
              "          2084,    17,  1004,   368, 20257, 15226,   461,   368, 14762,    15,\n",
              "           368, 12643,  1503, 19540,   982,  1620,  4853,   427, 38060,   267,\n",
              "         26371,   861,  4984,   722,  3692,  5845,   427,  8654, 45109,   861,\n",
              "         41003,  4984,  1130,    17,  1387, 12643,  1620,  4853,   427, 38060,\n",
              "           267, 26371,   861,  4984,   722,  3692,  5845,   427,  8654, 45109,\n",
              "           861, 41003,  4984,  1130,    17,  1387, 12643,  1620,  4853,   427,\n",
              "         38060,   267, 26371,   861,  4984,   722,  3692,  5845,   427,  8654,\n",
              "         45109,   861, 41003,  4984,  1130,    17,  1387, 12643,  1620,  4853,\n",
              "           427, 38060,   267, 26371,   861,  4984,   722,  3692,  5845,   427,\n",
              "          8654, 45109,   861, 41003,  4984,  1130,    17,  1387, 12643,  1620,\n",
              "          4853,   427, 38060,   267, 26371,   861,  4984,   722,  3692,  5845,\n",
              "           427,  8654, 45109,   861, 41003,  4984,  1130,    17,  1387, 12643,\n",
              "          1620,  4853,   427, 38060,   267, 26371,   861,  4984,   722,  3692,\n",
              "          5845,   427,  8654, 45109,   861, 41003,  4984,  1130,    17,  1387,\n",
              "         12643,  1620,  4853,   427, 38060,   267, 26371,   861,  4984,   722,\n",
              "          3692,  5845,   427,  8654, 45109,   861, 41003,  4984,  1130,    17,\n",
              "          1387, 12643,  1620,  4853,   427, 38060,   267, 26371,   861,  4984,\n",
              "           722,  3692,  5845,   427,  8654, 45109,   861, 41003,  4984,  1130,\n",
              "            17,  1387, 12643,  1620,  4853,   427, 38060,   267, 26371,   861]])"
            ]
          },
          "metadata": {},
          "execution_count": 46
        }
      ]
    },
    {
      "cell_type": "code",
      "source": [
        "print(tokenizer.decode(result_sample[0],truncate_before_pattern=[r\"\\n\\n^#\",\"^'''\",\"\\n\\n\\n\"]))"
      ],
      "metadata": {
        "colab": {
          "base_uri": "https://localhost:8080/"
        },
        "id": "jNJ-GDO5UUg5",
        "outputId": "36a0607b-ef64-4076-d27f-68f6e832c29a"
      },
      "execution_count": 47,
      "outputs": [
        {
          "output_type": "stream",
          "name": "stdout",
          "text": [
            "what is AI?”\n",
            "The question is not new. In the early days of the Internet, the term “AI” was used to describe a computer that could be programmed to perform tasks that humans could not. The term was used to describe a computer that could be programmed to perform tasks that humans could not. The term was used to describe a computer that could be programmed to perform tasks that humans could not. The term was used to describe a computer that could be programmed to perform tasks that humans could not. The term was used to describe a computer that could be programmed to perform tasks that humans could not. The term was used to describe a computer that could be programmed to perform tasks that humans could not. The term was used to describe a computer that could be programmed to perform tasks that humans could not. The term was used to describe a computer that could be programmed to perform tasks that humans could not. The term was used to describe a computer that\n"
          ]
        }
      ]
    },
    {
      "cell_type": "code",
      "source": [
        "!git push https://{token}@github.com/BVISHNU78/BLOOM-LLM.git new_branch_name\n"
      ],
      "metadata": {
        "colab": {
          "base_uri": "https://localhost:8080/"
        },
        "id": "wC-55V1SXweT",
        "outputId": "176495f4-a735-4b08-b853-028293beb42d"
      },
      "execution_count": 58,
      "outputs": [
        {
          "output_type": "stream",
          "name": "stdout",
          "text": [
            "error: src refspec BLOOM does not match any\n",
            "error: src refspec LLM does not match any\n",
            "\u001b[31merror: failed to push some refs to 'https://BLOOM-LLM.git'\n",
            "\u001b[m"
          ]
        }
      ]
    }
  ]
}